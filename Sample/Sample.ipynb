{
 "cells": [
  {
   "cell_type": "markdown",
   "id": "a9b019fc",
   "metadata": {},
   "source": [
    "<Advanced sensor validation using optimization.>"
   ]
  },
  {
   "cell_type": "markdown",
   "id": "a12bc984-edf1-4596-b784-ee4d725877b0",
   "metadata": {},
   "source": [
    "## Import Library"
   ]
  },
  {
   "cell_type": "code",
   "execution_count": 1,
   "id": "82e2c51e-a503-464e-ada3-d8316d859660",
   "metadata": {},
   "outputs": [],
   "source": [
    "import joblib\n",
    "import numpy as np\n",
    "import pandas as pd"
   ]
  },
  {
   "cell_type": "markdown",
   "id": "f4c35e27-b831-4eed-a2fd-401ae15a869a",
   "metadata": {},
   "source": [
    "## Load Data"
   ]
  },
  {
   "cell_type": "code",
   "execution_count": 2,
   "id": "114b0e5e-8efd-415d-a641-2a00c2578e62",
   "metadata": {},
   "outputs": [],
   "source": [
    "test_data = pd.read_csv('test_data.csv', index_col='DateTime', encoding='utf-8-sig')\n",
    "test_x = test_data.values[:, :-1]\n",
    "test_y = test_data.values[:, -1]\n",
    "tag_list = test_data.columns[:-1]\n",
    "x_num = len(tag_list)"
   ]
  },
  {
   "cell_type": "code",
   "execution_count": 3,
   "id": "7e635642-5358-425b-949d-d619d419cab8",
   "metadata": {},
   "outputs": [
    {
     "data": {
      "text/html": [
       "<div>\n",
       "<style scoped>\n",
       "    .dataframe tbody tr th:only-of-type {\n",
       "        vertical-align: middle;\n",
       "    }\n",
       "\n",
       "    .dataframe tbody tr th {\n",
       "        vertical-align: top;\n",
       "    }\n",
       "\n",
       "    .dataframe thead th {\n",
       "        text-align: right;\n",
       "    }\n",
       "</style>\n",
       "<table border=\"1\" class=\"dataframe\">\n",
       "  <thead>\n",
       "    <tr style=\"text-align: right;\">\n",
       "      <th></th>\n",
       "      <th>GAS_F</th>\n",
       "      <th>WTR_F</th>\n",
       "      <th>WTR_T</th>\n",
       "      <th>STM_T</th>\n",
       "      <th>STM_P</th>\n",
       "      <th>FLUE_T2</th>\n",
       "      <th>FLUE_O2</th>\n",
       "    </tr>\n",
       "    <tr>\n",
       "      <th>DateTime</th>\n",
       "      <th></th>\n",
       "      <th></th>\n",
       "      <th></th>\n",
       "      <th></th>\n",
       "      <th></th>\n",
       "      <th></th>\n",
       "      <th></th>\n",
       "    </tr>\n",
       "  </thead>\n",
       "  <tbody>\n",
       "    <tr>\n",
       "      <th>1384</th>\n",
       "      <td>1637.32</td>\n",
       "      <td>21.2</td>\n",
       "      <td>97.6</td>\n",
       "      <td>216.5</td>\n",
       "      <td>20.3</td>\n",
       "      <td>159</td>\n",
       "      <td>2.894</td>\n",
       "    </tr>\n",
       "  </tbody>\n",
       "</table>\n",
       "</div>"
      ],
      "text/plain": [
       "            GAS_F  WTR_F  WTR_T  STM_T  STM_P  FLUE_T2  FLUE_O2\n",
       "DateTime                                                       \n",
       "1384      1637.32   21.2   97.6  216.5   20.3      159    2.894"
      ]
     },
     "execution_count": 3,
     "metadata": {},
     "output_type": "execute_result"
    }
   ],
   "source": [
    "test_data"
   ]
  },
  {
   "cell_type": "code",
   "execution_count": 4,
   "id": "8f3951fb-b9cc-4469-98e6-a0725cfa4850",
   "metadata": {},
   "outputs": [],
   "source": [
    "x_data = test_x[0].reshape(-1, x_num)\n",
    "y_data = test_y[0]\n",
    "y_fault_reference = 0.05"
   ]
  },
  {
   "cell_type": "code",
   "execution_count": 5,
   "id": "a5911ba4-5a3a-43b7-aa45-de049631a0f9",
   "metadata": {},
   "outputs": [],
   "source": [
    "msg = {\"unit_name\": \"Test Unit\"}\n",
    "msg['step_name'] = \"Test Step\""
   ]
  },
  {
   "cell_type": "markdown",
   "id": "6ff1b07a-08e5-457d-8c1c-3c6e862f22e1",
   "metadata": {},
   "source": [
    "# Algo 1. Diagnosis Fault and Reconstruct Using PLS Model"
   ]
  },
  {
   "cell_type": "code",
   "execution_count": 6,
   "id": "1f9743c0-a517-4e83-93d4-a96397437c37",
   "metadata": {},
   "outputs": [],
   "source": [
    "pca_info = joblib.load('pca_info.pkl')\n",
    "pls_model = joblib.load('pls_model.pkl')\n",
    "pls_info = joblib.load('pls_info.pkl')"
   ]
  },
  {
   "cell_type": "code",
   "execution_count": 7,
   "id": "14537b2e-e11a-4aa1-8c54-12dc9de24ca1",
   "metadata": {},
   "outputs": [],
   "source": [
    "from FaultDetect.algorithms import diagnose_fault"
   ]
  },
  {
   "cell_type": "code",
   "execution_count": 8,
   "id": "e73f5001-7d84-4d9d-9a24-9eb69b1689cd",
   "metadata": {},
   "outputs": [
    {
     "name": "stdout",
     "output_type": "stream",
     "text": [
      "Reconstruct X: [1637.32] ---> [1346.10689139]\n",
      "Y Error- Y Predict:2.944, Y Measured:2.894\n"
     ]
    },
    {
     "data": {
      "text/plain": [
       "('Test Unit > Test Step > Fault Detect',\n",
       " 'Test Unit > Test Step > GAS_F Error',\n",
       " 'GAS_F',\n",
       " 'Test Unit > Test Step > Y Error',\n",
       " 2.9440021661744207)"
      ]
     },
     "execution_count": 8,
     "metadata": {},
     "output_type": "execute_result"
    }
   ],
   "source": [
    "detect_msg_pca, identify_msg_pca, fault_variable_pca, detect_msg_vs, y_predict = diagnose_fault(x=x_data, y_measure=y_data,\n",
    "                                                                                                y_predict_model=pls_model,\n",
    "                                                                                                model_fault_reference=y_fault_reference,\n",
    "                                                                                                pca_model_info=pca_info, pca_limit=pca_info['limit'],\n",
    "                                                                                                tag_list=tag_list, \n",
    "                                                                                                msg=msg,\n",
    "                                                                                                group_reference=None)\n",
    "detect_msg_pca, identify_msg_pca, fault_variable_pca, detect_msg_vs, y_predict"
   ]
  },
  {
   "cell_type": "markdown",
   "id": "cdd43aa8-2582-4296-b510-498a85dba17e",
   "metadata": {},
   "source": [
    "# Algo 2. Diagnosis Fault Using PLS Model"
   ]
  },
  {
   "cell_type": "code",
   "execution_count": 9,
   "id": "d3493e04-a50d-4b40-963d-7038b424a417",
   "metadata": {},
   "outputs": [],
   "source": [
    "pls_model = joblib.load('pls_model.pkl')\n",
    "pls_info = joblib.load('pls_info.pkl')"
   ]
  },
  {
   "cell_type": "code",
   "execution_count": 10,
   "id": "a5424168-294f-4365-a7cb-66499d318172",
   "metadata": {},
   "outputs": [],
   "source": [
    "from FaultDetect.algorithms import diagnose_fault_using_virtual_sensors"
   ]
  },
  {
   "cell_type": "code",
   "execution_count": 11,
   "id": "f7a3ebc3-328d-4ab6-a7a7-abd9deb10c75",
   "metadata": {},
   "outputs": [
    {
     "data": {
      "text/plain": [
       "(2.823457885517407, True, 'Test Unit > Test Step > GAS_F is Fault', 'GAS_F')"
      ]
     },
     "execution_count": 11,
     "metadata": {},
     "output_type": "execute_result"
    }
   ],
   "source": [
    "y_predict, detect_alarm, alarm_message, fault_variable = diagnose_fault_using_virtual_sensors(x=x_data,\n",
    "                                                                                              y_measure=y_data,\n",
    "                                                                                              y_predict_model=pls_model, \n",
    "                                                                                              model_fault_reference=y_fault_reference,\n",
    "                                                                                              model_info=pls_info,\n",
    "                                                                                              tag_list=tag_list,\n",
    "                                                                                              msg=msg)\n",
    "y_predict, detect_alarm, alarm_message, fault_variable"
   ]
  },
  {
   "cell_type": "markdown",
   "id": "13e9c4af-04b5-4bcd-a83b-55d1ec353d71",
   "metadata": {},
   "source": [
    "# Algo 3. Diagnosis Fault Using PCA Model\n",
    "1. Fault Detect\n",
    "2. Fault Identfication"
   ]
  },
  {
   "cell_type": "code",
   "execution_count": 12,
   "id": "697c70e1-e18f-4b18-b658-8eb8e013025c",
   "metadata": {},
   "outputs": [],
   "source": [
    "pca_info = joblib.load('pca_info.pkl')"
   ]
  },
  {
   "cell_type": "code",
   "execution_count": 13,
   "id": "1bc20bec-5934-4dfb-9b50-2890a45e83ff",
   "metadata": {},
   "outputs": [],
   "source": [
    "from FaultDetect.algorithms import diagnose_fault_using_pca_model"
   ]
  },
  {
   "cell_type": "code",
   "execution_count": 14,
   "id": "bc51e125-ce47-486e-ae2d-e996f2ee3d04",
   "metadata": {
    "tags": []
   },
   "outputs": [
    {
     "name": "stdout",
     "output_type": "stream",
     "text": [
      "True Test Unit > Test Step > GAS_F is Fault GAS_F\n"
     ]
    }
   ],
   "source": [
    "detect_alarm, alarm_messsage, fault_variable = diagnose_fault_using_pca_model(x=x_data, \n",
    "                                                                              model_info=pca_info, \n",
    "                                                                              model_fault_reference=pca_info['limit'],\n",
    "                                                                              tag_list=tag_list, msg=msg)\n",
    "print(detect_alarm, alarm_messsage, fault_variable)"
   ]
  },
  {
   "cell_type": "markdown",
   "id": "e867c263-7053-4fac-8fcb-6392ee78886e",
   "metadata": {},
   "source": [
    "# Algo 4. "
   ]
  },
  {
   "cell_type": "code",
   "execution_count": 15,
   "id": "1f5299b1-720d-4df2-9f90-acd4d57ecd37",
   "metadata": {},
   "outputs": [],
   "source": [
    "pls_model = joblib.load('pls_model.pkl')"
   ]
  },
  {
   "cell_type": "code",
   "execution_count": 16,
   "id": "45fe0597-57b7-4aa9-b68e-b49d9466cb10",
   "metadata": {},
   "outputs": [],
   "source": [
    "from FaultDetect.algorithms import predict_y_using_virtual_sensors"
   ]
  },
  {
   "cell_type": "code",
   "execution_count": 17,
   "id": "a3f4c3e1-e322-4707-a9f4-d1aa73aafbc1",
   "metadata": {},
   "outputs": [
    {
     "data": {
      "text/plain": [
       "(True, 'Test Unit > Test Step > Error', 2.823457885517407)"
      ]
     },
     "execution_count": 17,
     "metadata": {},
     "output_type": "execute_result"
    }
   ],
   "source": [
    "detect_alarm, detect_msg, y_predict = predict_y_using_virtual_sensors(x=x_data,\n",
    "                                                                      y_predict_model=pls_model,\n",
    "                                                                      model_fault_reference=y_fault_reference,\n",
    "                                                                      msg=msg,\n",
    "                                                                      y_measure=y_data)\n",
    "detect_alarm, detect_msg, y_predict"
   ]
  },
  {
   "cell_type": "code",
   "execution_count": null,
   "id": "66f496af-fae1-413f-955b-2c702093fc29",
   "metadata": {},
   "outputs": [],
   "source": []
  }
 ],
 "metadata": {
  "kernelspec": {
   "display_name": "Python 3 (ipykernel)",
   "language": "python",
   "name": "python3"
  },
  "language_info": {
   "codemirror_mode": {
    "name": "ipython",
    "version": 3
   },
   "file_extension": ".py",
   "mimetype": "text/x-python",
   "name": "python",
   "nbconvert_exporter": "python",
   "pygments_lexer": "ipython3",
   "version": "3.7.11"
  }
 },
 "nbformat": 4,
 "nbformat_minor": 5
}
